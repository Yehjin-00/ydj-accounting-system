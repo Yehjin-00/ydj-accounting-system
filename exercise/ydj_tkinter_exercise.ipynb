{
 "cells": [
  {
   "cell_type": "markdown",
   "id": "6d5a5b4e-1f32-4f5a-91c7-b62314f9bbea",
   "metadata": {},
   "source": [
    "# YDJ Pillow Exercise\n",
    "##### 2021.08.23"
   ]
  },
  {
   "cell_type": "code",
   "execution_count": 1,
   "id": "70e697ed-889d-4404-9132-1f3119cee074",
   "metadata": {},
   "outputs": [],
   "source": [
    "import tkinter as tk\n",
    "from datetime import datetime\n",
    "from tkinter import filedialog"
   ]
  },
  {
   "cell_type": "markdown",
   "id": "0506f835-ab2c-4d2e-ae86-a7d89ba974d8",
   "metadata": {},
   "source": [
    "## Window"
   ]
  },
  {
   "cell_type": "code",
   "execution_count": 2,
   "id": "b0bba8a7-cfde-4e4f-9369-cabb21d57757",
   "metadata": {},
   "outputs": [],
   "source": [
    "win = tk.Tk() # 창 생성\n",
    "win.geometry(\"600x100\") # 창 크기\n",
    "win.title(\"exercise\") # 제목\n",
    "win.option_add(\"*Font\", \"맑은고딕 25\") # 전체 폰트"
   ]
  },
  {
   "cell_type": "markdown",
   "id": "ffec2fe5-8dd5-422c-8174-d8439a09faae",
   "metadata": {},
   "source": [
    "## Button"
   ]
  },
  {
   "cell_type": "code",
   "execution_count": 10,
   "id": "d6e331fd-1a5a-4f43-8c9b-e37ad4848184",
   "metadata": {},
   "outputs": [],
   "source": [
    "btn = tk.Button(win) # 버튼 생성\n",
    "btn.config(width=30, height=10) # 버튼 크기\n",
    "btn.config(text='버튼') # 버튼 제목\n",
    "def what_time():\n",
    "    btn.config(text=datetime.now())\n",
    "btn.config(command=what_time) # 버튼 기능\n",
    "btn.pack() # 버튼 배치"
   ]
  },
  {
   "cell_type": "markdown",
   "id": "99c786e5-18df-4e41-b205-95a39bb11ff6",
   "metadata": {},
   "source": [
    "## File Upload"
   ]
  },
  {
   "cell_type": "code",
   "execution_count": 11,
   "id": "5923a0e6-989b-455f-a60b-5a64993fb2e6",
   "metadata": {},
   "outputs": [],
   "source": [
    "filepath = filedialog.askopenfilename(initialdir=\"\", \n",
    "                                          title=\"Select a file\",\n",
    "                                          filetypes=((\"csv files\", \"*.csv\"), (\"xlsx files\", \"*.xlsx\")))"
   ]
  },
  {
   "cell_type": "markdown",
   "id": "343123c3-35f8-4072-92a4-b8a834e2e753",
   "metadata": {},
   "source": [
    "## Get Folder Directory"
   ]
  },
  {
   "cell_type": "code",
   "execution_count": 4,
   "id": "dbf76730-ac46-4a2b-a7e3-f55caab4a756",
   "metadata": {},
   "outputs": [],
   "source": [
    "folder_selected = filedialog.askdirectory()"
   ]
  },
  {
   "cell_type": "markdown",
   "id": "523db8e3-e95a-49c2-bc3b-1c655f8231f8",
   "metadata": {},
   "source": [
    "## Start Window"
   ]
  },
  {
   "cell_type": "code",
   "execution_count": 14,
   "id": "10bbed96-f1a5-4f61-a131-cc06a77c7a15",
   "metadata": {},
   "outputs": [],
   "source": [
    "win.mainloop() # 창 And 실행"
   ]
  },
  {
   "cell_type": "markdown",
   "id": "3ded0d46-4008-4caa-9b25-f7b0183c9f95",
   "metadata": {},
   "source": [
    "## Quit Window"
   ]
  },
  {
   "cell_type": "code",
   "execution_count": 3,
   "id": "424ed020-d010-4168-8ff8-2e8b227af091",
   "metadata": {},
   "outputs": [],
   "source": [
    "def close_window():\n",
    "    win.destroy()"
   ]
  },
  {
   "cell_type": "code",
   "execution_count": null,
   "id": "9b187b84-b13b-418c-94f7-591c3b54c7c6",
   "metadata": {},
   "outputs": [],
   "source": []
  }
 ],
 "metadata": {
  "kernelspec": {
   "display_name": "Python 3",
   "language": "python",
   "name": "python3"
  },
  "language_info": {
   "codemirror_mode": {
    "name": "ipython",
    "version": 3
   },
   "file_extension": ".py",
   "mimetype": "text/x-python",
   "name": "python",
   "nbconvert_exporter": "python",
   "pygments_lexer": "ipython3",
   "version": "3.7.6"
  }
 },
 "nbformat": 4,
 "nbformat_minor": 5
}

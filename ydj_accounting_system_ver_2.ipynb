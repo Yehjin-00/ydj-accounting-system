{
 "cells": [
  {
   "cell_type": "markdown",
   "metadata": {},
   "source": [
    "# YDJ Accounting System Ver.2\n",
    "##### 2021.08.22"
   ]
  },
  {
   "cell_type": "markdown",
   "metadata": {},
   "source": [
    "### 1. 모듈 불러오기"
   ]
  },
  {
   "cell_type": "code",
   "execution_count": 136,
   "metadata": {},
   "outputs": [],
   "source": [
    "from __future__ import print_function\n",
    "import pickle\n",
    "import os.path\n",
    "from googleapiclient.discovery import build\n",
    "from google_auth_oauthlib.flow import InstalledAppFlow\n",
    "from google.auth.transport.requests import Request\n",
    "\n",
    "import io\n",
    "import googleapiclient.http\n",
    "\n",
    "from PIL import Image,ImageDraw,ImageFont\n",
    "import os\n",
    "\n",
    "import numpy as np\n",
    "import pandas as pd\n",
    "import re\n",
    "\n",
    "import img2pdf"
   ]
  },
  {
   "cell_type": "markdown",
   "metadata": {},
   "source": [
    "### 2. drive service 설정"
   ]
  },
  {
   "cell_type": "code",
   "execution_count": 138,
   "metadata": {},
   "outputs": [],
   "source": [
    "SCOPES = ['https://www.googleapis.com/auth/drive']\n",
    "\n",
    "creds = None\n",
    "if os.path.exists('token.pickle'):\n",
    "    with open('token.pickle', 'rb') as token:\n",
    "        creds = pickle.load(token)\n",
    "        \n",
    "# If there are no (valid) credentials available, let the user log in.\n",
    "if not creds or not creds.valid:\n",
    "    if creds and creds.expired and creds.refresh_token:\n",
    "        creds.refresh(Request())\n",
    "    else:\n",
    "        flow = InstalledAppFlow.from_client_secrets_file('credentials.json', SCOPES)\n",
    "        creds = flow.run_local_server(port=0)\n",
    "    # Save the credentials for the next run\n",
    "    with open('token.pickle', 'wb') as token:\n",
    "        pickle.dump(creds, token)\n",
    "\n",
    "drive_service = build('drive', 'v3', credentials=creds)"
   ]
  },
  {
   "cell_type": "markdown",
   "metadata": {},
   "source": [
    "### 3. 필요한 메소드 정의"
   ]
  },
  {
   "cell_type": "code",
   "execution_count": 139,
   "metadata": {},
   "outputs": [],
   "source": [
    "# 품명/수량/금액 나누는 메소드\n",
    "def divide(full):\n",
    "    item = full.split('\\n')\n",
    "    item_list = [i.split(\"/\") for i in item]\n",
    "    for i in range(len(item_list)):\n",
    "        item_list[i][2] = str(commaParse(item_list[i][2]))+\" 원\"\n",
    "    return item_list\n",
    "\n",
    "# 사진 링크에서 id 뽑아내는 메소드\n",
    "def get_id(url_list):\n",
    "    url_list = [url+\";\" for url in url_list]\n",
    "    pattern = re.compile('{}(.*?){}'.format(re.escape('id='), re.escape(';')))\n",
    "    return [pattern.findall(url) for url in url_list] \n",
    "\n",
    "# 숫자를 000,000,000 꼴로 바꾸는 정규식\n",
    "def commaParse(num):\n",
    "    return re.sub('(?<=\\d)(?=(\\d{3})+(?!\\d))',',',str(num))"
   ]
  },
  {
   "cell_type": "markdown",
   "metadata": {},
   "source": [
    "### 4. 답변 CSV 전처리 for excel"
   ]
  },
  {
   "cell_type": "code",
   "execution_count": 141,
   "metadata": {},
   "outputs": [
    {
     "name": "stdin",
     "output_type": "stream",
     "text": [
      "월:  8\n",
      "전 or 후:  후\n"
     ]
    }
   ],
   "source": [
    "month = int(input(\"월: \"))\n",
    "when = input('전 or 후: ')\n",
    "original = pd.read_csv(f'original/use/{month}월_{when}반.csv')\n",
    "\n",
    "df = original.copy()\n",
    "df['영수증'] = get_id(df['영수증 (사진 파일로 업로드)'])\n",
    "df['개수'] = [len(v) for v in df['영수증']]\n",
    "df = df.drop('영수증 (사진 파일로 업로드)', axis=1)\n",
    "\n",
    "real = sum(df['개수'][df['실물영수증 여부']=='실물영수증 O'])\n",
    "\n",
    "df = df[['프로그램명', '인원', '계정사유', '적요', '결제일자', '금액', '가맹점명','개수']]\n",
    "\n",
    "new_df = pd.DataFrame(columns=['프로그램명', '인원', '계정사유', '적요', '결제일자', '금액', '가맹점명','개수'])\n",
    "\n",
    "index = 0\n",
    "for idx, val in df.iterrows():\n",
    "    num = val['개수']\n",
    "    for i in range(num):\n",
    "        new_df.loc[index] = val\n",
    "        index +=1\n",
    "        \n",
    "new_df.to_excel(f'result/use/{month}월_{when}반 예산내역서 내용.xlsx', index=False)\n",
    "\n",
    "whole_num = sum(df['개수'])\n",
    "print('영수증은 총 {}개 입니다.'.format(whole_num))\n",
    "print('실물영수증은 총 {}개 입니다.'.format(real))\n",
    "print('예산내역서 내용이 저장되었습니다.')"
   ]
  },
  {
   "cell_type": "markdown",
   "metadata": {},
   "source": [
    "### 5. 답변 CSV 전처리 for 영수증 양식"
   ]
  },
  {
   "cell_type": "code",
   "execution_count": 130,
   "metadata": {},
   "outputs": [
    {
     "data": {
      "text/html": [
       "<div>\n",
       "<style scoped>\n",
       "    .dataframe tbody tr th:only-of-type {\n",
       "        vertical-align: middle;\n",
       "    }\n",
       "\n",
       "    .dataframe tbody tr th {\n",
       "        vertical-align: top;\n",
       "    }\n",
       "\n",
       "    .dataframe thead th {\n",
       "        text-align: right;\n",
       "    }\n",
       "</style>\n",
       "<table border=\"1\" class=\"dataframe\">\n",
       "  <thead>\n",
       "    <tr style=\"text-align: right;\">\n",
       "      <th></th>\n",
       "      <th>사용 RA</th>\n",
       "      <th>인원</th>\n",
       "      <th>결제일자</th>\n",
       "      <th>프로그램명</th>\n",
       "      <th>금액</th>\n",
       "      <th>품명/수량/금액</th>\n",
       "      <th>영수증</th>\n",
       "    </tr>\n",
       "  </thead>\n",
       "  <tbody>\n",
       "    <tr>\n",
       "      <th>0</th>\n",
       "      <td>홍나현 RA</td>\n",
       "      <td>11 명</td>\n",
       "      <td>2021-05-17</td>\n",
       "      <td>동주사진전</td>\n",
       "      <td>12,900 원</td>\n",
       "      <td>버라이어티 초콜릿 과자 선물세트/1/12900</td>\n",
       "      <td>[13yWWP8zPiG9cls_ChYkUhkFt1ZvNIpTy, 1c-jzznjSR...</td>\n",
       "    </tr>\n",
       "    <tr>\n",
       "      <th>1</th>\n",
       "      <td>신예진 RA</td>\n",
       "      <td>14 명</td>\n",
       "      <td>2021-05-17</td>\n",
       "      <td>윤동주하우스 특별강연</td>\n",
       "      <td>276,800 원</td>\n",
       "      <td>토끼정 카레/5/9800\\n콜라/7/2000\\n날치알크림파스타/3/11800\\n크림...</td>\n",
       "      <td>[1sCFMJya5S9_zGoBSaHQBoZ25-8JXnJNG]</td>\n",
       "    </tr>\n",
       "    <tr>\n",
       "      <th>2</th>\n",
       "      <td>신예진 RA</td>\n",
       "      <td>6 명</td>\n",
       "      <td>2021-05-19</td>\n",
       "      <td>리틀포레스트: 송도편</td>\n",
       "      <td>129,870 원</td>\n",
       "      <td>NaN</td>\n",
       "      <td>[16zZzRQEyYH4vuX3Df9e7e03TqSAzmhAW]</td>\n",
       "    </tr>\n",
       "    <tr>\n",
       "      <th>3</th>\n",
       "      <td>신예진 RA</td>\n",
       "      <td>6 명</td>\n",
       "      <td>2021-05-19</td>\n",
       "      <td>리틀포레스트: 송도편</td>\n",
       "      <td>23,600 원</td>\n",
       "      <td>NaN</td>\n",
       "      <td>[1PYvuzEgVzBchgmaWkuofShXIRyWm6SzV]</td>\n",
       "    </tr>\n",
       "    <tr>\n",
       "      <th>4</th>\n",
       "      <td>신예진 RA</td>\n",
       "      <td>6 명</td>\n",
       "      <td>2021-05-19</td>\n",
       "      <td>리틀포레스트: 송도편</td>\n",
       "      <td>32,200 원</td>\n",
       "      <td>NaN</td>\n",
       "      <td>[12QIk6ybAFx3JUnAAvt5jwzkYV7CqcgAp]</td>\n",
       "    </tr>\n",
       "  </tbody>\n",
       "</table>\n",
       "</div>"
      ],
      "text/plain": [
       "    사용 RA    인원        결제일자        프로그램명         금액  \\\n",
       "0  홍나현 RA  11 명  2021-05-17        동주사진전   12,900 원   \n",
       "1  신예진 RA  14 명  2021-05-17  윤동주하우스 특별강연  276,800 원   \n",
       "2  신예진 RA   6 명  2021-05-19  리틀포레스트: 송도편  129,870 원   \n",
       "3  신예진 RA   6 명  2021-05-19  리틀포레스트: 송도편   23,600 원   \n",
       "4  신예진 RA   6 명  2021-05-19  리틀포레스트: 송도편   32,200 원   \n",
       "\n",
       "                                            품명/수량/금액  \\\n",
       "0                          버라이어티 초콜릿 과자 선물세트/1/12900   \n",
       "1  토끼정 카레/5/9800\\n콜라/7/2000\\n날치알크림파스타/3/11800\\n크림...   \n",
       "2                                                NaN   \n",
       "3                                                NaN   \n",
       "4                                                NaN   \n",
       "\n",
       "                                                 영수증  \n",
       "0  [13yWWP8zPiG9cls_ChYkUhkFt1ZvNIpTy, 1c-jzznjSR...  \n",
       "1                [1sCFMJya5S9_zGoBSaHQBoZ25-8JXnJNG]  \n",
       "2                [16zZzRQEyYH4vuX3Df9e7e03TqSAzmhAW]  \n",
       "3                [1PYvuzEgVzBchgmaWkuofShXIRyWm6SzV]  \n",
       "4                [12QIk6ybAFx3JUnAAvt5jwzkYV7CqcgAp]  "
      ]
     },
     "execution_count": 130,
     "metadata": {},
     "output_type": "execute_result"
    }
   ],
   "source": [
    "# 불러오기\n",
    "df = original.copy()\n",
    "\n",
    "# 필요한 column만 남기기\n",
    "df = df[['사용 RA','인원','결제일자','프로그램명','금액','품명/수량/금액','영수증 (사진 파일로 업로드)']]\n",
    "\n",
    "# id만 list로 뽑아내는 과정\n",
    "df['영수증'] = get_id(df['영수증 (사진 파일로 업로드)'])\n",
    "df = df.drop('영수증 (사진 파일로 업로드)', axis=1)\n",
    "\n",
    "# 원하는 꼴로 변형\n",
    "df['인원'] = [str(v)+\" 명\" for v in df['인원']]\n",
    "df['금액'] = [str(commaParse(v))+\" 원\" for v in df['금액']]\n",
    "\n",
    "# 미리보기\n",
    "df.head()"
   ]
  },
  {
   "cell_type": "code",
   "execution_count": 131,
   "metadata": {},
   "outputs": [
    {
     "data": {
      "text/html": [
       "<div>\n",
       "<style scoped>\n",
       "    .dataframe tbody tr th:only-of-type {\n",
       "        vertical-align: middle;\n",
       "    }\n",
       "\n",
       "    .dataframe tbody tr th {\n",
       "        vertical-align: top;\n",
       "    }\n",
       "\n",
       "    .dataframe thead th {\n",
       "        text-align: right;\n",
       "    }\n",
       "</style>\n",
       "<table border=\"1\" class=\"dataframe\">\n",
       "  <thead>\n",
       "    <tr style=\"text-align: right;\">\n",
       "      <th></th>\n",
       "      <th>사용 RA</th>\n",
       "      <th>인원</th>\n",
       "      <th>결제일자</th>\n",
       "      <th>프로그램명</th>\n",
       "      <th>금액</th>\n",
       "      <th>품명/수량/금액</th>\n",
       "      <th>영수증</th>\n",
       "      <th>업체선정사유</th>\n",
       "    </tr>\n",
       "  </thead>\n",
       "  <tbody>\n",
       "    <tr>\n",
       "      <th>1</th>\n",
       "      <td>신예진 RA</td>\n",
       "      <td>14 명</td>\n",
       "      <td>2021-05-17</td>\n",
       "      <td>윤동주하우스 특별강연</td>\n",
       "      <td>276,800 원</td>\n",
       "      <td>토끼정 카레/5/9800\\n콜라/7/2000\\n날치알크림파스타/3/11800\\n크림...</td>\n",
       "      <td>[1sCFMJya5S9_zGoBSaHQBoZ25-8JXnJNG]</td>\n",
       "      <td>가까워서</td>\n",
       "    </tr>\n",
       "    <tr>\n",
       "      <th>2</th>\n",
       "      <td>신예진 RA</td>\n",
       "      <td>6 명</td>\n",
       "      <td>2021-05-19</td>\n",
       "      <td>리틀포레스트: 송도편</td>\n",
       "      <td>129,870 원</td>\n",
       "      <td>NaN</td>\n",
       "      <td>[16zZzRQEyYH4vuX3Df9e7e03TqSAzmhAW]</td>\n",
       "      <td>가까워서</td>\n",
       "    </tr>\n",
       "  </tbody>\n",
       "</table>\n",
       "</div>"
      ],
      "text/plain": [
       "    사용 RA    인원        결제일자        프로그램명         금액  \\\n",
       "1  신예진 RA  14 명  2021-05-17  윤동주하우스 특별강연  276,800 원   \n",
       "2  신예진 RA   6 명  2021-05-19  리틀포레스트: 송도편  129,870 원   \n",
       "\n",
       "                                            품명/수량/금액  \\\n",
       "1  토끼정 카레/5/9800\\n콜라/7/2000\\n날치알크림파스타/3/11800\\n크림...   \n",
       "2                                                NaN   \n",
       "\n",
       "                                   영수증 업체선정사유  \n",
       "1  [1sCFMJya5S9_zGoBSaHQBoZ25-8JXnJNG]   가까워서  \n",
       "2  [16zZzRQEyYH4vuX3Df9e7e03TqSAzmhAW]   가까워서  "
      ]
     },
     "execution_count": 131,
     "metadata": {},
     "output_type": "execute_result"
    }
   ],
   "source": [
    "df = df.iloc[1:3]\n",
    "df['업체선정사유'] = '가까워서'\n",
    "df"
   ]
  },
  {
   "cell_type": "markdown",
   "metadata": {},
   "source": [
    "### 6. 필요한 좌표 값 리스트"
   ]
  },
  {
   "cell_type": "code",
   "execution_count": 132,
   "metadata": {},
   "outputs": [],
   "source": [
    "location_short = [(1640, 205), (2600, 205), (690,270), (1600, 270),(2555, 270)]\n",
    "location_long = [(1640, 205), (2600, 205), (690,270), (1550, 270),(2555, 270)]\n",
    "location_house = (690, 205)\n",
    "location_receipt = (300,670)\n",
    "location_reason = (550,525)\n",
    "col_item = [2260, 2690, 2782]\n",
    "row_item = [685, 830, 964, 1107, 1265, 1402, 1540, 1677, 1830, 1962]"
   ]
  },
  {
   "cell_type": "markdown",
   "metadata": {},
   "source": [
    "### 7. Pillow 기본 설정"
   ]
  },
  {
   "cell_type": "code",
   "execution_count": 133,
   "metadata": {},
   "outputs": [],
   "source": [
    "# path 설정\n",
    "path = '/Users/shinyehjin/Programming/ydj-accounting-system'\n",
    "\n",
    "# 폰트 경로와 사이즈 설정\n",
    "regularFont =ImageFont.truetype(os.path.join(path,'fonts/HANBatangB.ttf'),36)\n",
    "smallFont =ImageFont.truetype(os.path.join(path,'fonts/HANBatangB.ttf'),30)"
   ]
  },
  {
   "cell_type": "markdown",
   "metadata": {},
   "source": [
    "### 8. 대망의 결과물 뽑아내기 과정"
   ]
  },
  {
   "cell_type": "code",
   "execution_count": 135,
   "metadata": {},
   "outputs": [
    {
     "name": "stdout",
     "output_type": "stream",
     "text": [
      "[1] index:0의 0번째 사진! Download 100%.\n",
      "[2] index:1의 0번째 사진! Download 100%.\n",
      "전체 영수증 개수: 234\n",
      "영수증 양식 제작 개수: 2\n"
     ]
    }
   ],
   "source": [
    "check = 0\n",
    "for index in range(len(df)):\n",
    "    \n",
    "    target_image = Image.open(path+\"/original/form.jpeg\")\n",
    "    row = df.iloc[index]\n",
    "\n",
    "    draw = ImageDraw.Draw(target_image)\n",
    "    draw.text(location_house, \"윤동주 하우스\", fill=\"black\", font=regularFont, align='center')\n",
    "    draw.text(location_reason, str(row[7]), fill=\"black\", font=regularFont, align='center')\n",
    "    if (len(row[3]) > 9):\n",
    "        for i in range(5):\n",
    "            draw.text(location_long[i], str(row[i]), fill=\"black\", font=regularFont, align='center')\n",
    "    else:\n",
    "        for i in range(5):\n",
    "            draw.text(location_short[i], str(row[i]), fill=\"black\", font=regularFont, align='center')\n",
    "    \n",
    "    if type(row[5]) == type('string'):\n",
    "        item_list = divide(row[5])\n",
    "        for i in range(len(item_list)):\n",
    "            if len(item_list[i][0]) > 13:\n",
    "                front = item_list[i][0][:13]\n",
    "                back = item_list[i][0][13:]\n",
    "                draw.text((col_item[0], row_item[i]-20), front, fill=\"black\", font=smallFont, align='center') \n",
    "                draw.text((col_item[0], row_item[i]+20), back, fill=\"black\", font=smallFont, align='center') \n",
    "            else:\n",
    "                draw.text((col_item[0], row_item[i]), item_list[i][0], fill=\"black\", font=smallFont, align='center') \n",
    "            for n in range(1,3):\n",
    "                draw.text((col_item[n], row_item[i]), item_list[i][n], fill=\"black\", font=smallFont, align='center') \n",
    "\n",
    "    for i in range(len(row[6])):\n",
    "        check += 1\n",
    "        file_id = row[6][i]\n",
    "        request = drive_service.files().get_media(fileId=file_id)\n",
    "        fh = io.BytesIO()\n",
    "        downloader = googleapiclient.http.MediaIoBaseDownload(fh, request)\n",
    "\n",
    "        done = False\n",
    "        while done is False:\n",
    "            status, done = downloader.next_chunk()\n",
    "            print(\"[{}] index:{}의 {}번째 사진! \".format(check, index, i)+\"Download %d%%.\" % int(status.progress() * 100))\n",
    "\n",
    "        add_image = Image.open(fh)\n",
    "    \n",
    "        if int(add_image.size[0]*(1300/add_image.size[1])) > 1300:\n",
    "            target_image.paste(im = add_image.resize((1300, int(add_image.size[1]*(1300/add_image.size[0])))), box=location_receipt)              \n",
    "        else:\n",
    "            target_image.paste(im = add_image.resize((int(add_image.size[0]*(1300/add_image.size[1])), 1300)), box=location_receipt)\n",
    "        target_image.save(path+\"/result/use/{}월 {}반/영수증_{}_{}.jpg\".format(month, when, index, i))\n",
    "        \n",
    "print(f'전체 영수증 개수: {whole_num}\\n영수증 양식 제작 개수: {check}')"
   ]
  },
  {
   "cell_type": "code",
   "execution_count": null,
   "metadata": {},
   "outputs": [],
   "source": []
  }
 ],
 "metadata": {
  "kernelspec": {
   "display_name": "Python 3",
   "language": "python",
   "name": "python3"
  },
  "language_info": {
   "codemirror_mode": {
    "name": "ipython",
    "version": 3
   },
   "file_extension": ".py",
   "mimetype": "text/x-python",
   "name": "python",
   "nbconvert_exporter": "python",
   "pygments_lexer": "ipython3",
   "version": "3.7.6"
  },
  "toc": {
   "base_numbering": 1,
   "nav_menu": {},
   "number_sections": true,
   "sideBar": true,
   "skip_h1_title": false,
   "title_cell": "Table of Contents",
   "title_sidebar": "Contents",
   "toc_cell": false,
   "toc_position": {},
   "toc_section_display": true,
   "toc_window_display": false
  }
 },
 "nbformat": 4,
 "nbformat_minor": 4
}

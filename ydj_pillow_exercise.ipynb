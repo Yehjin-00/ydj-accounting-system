{
 "cells": [
  {
   "cell_type": "markdown",
   "metadata": {},
   "source": [
    "# YDJ Pillow Exercise\n",
    "##### 2021.03.05"
   ]
  },
  {
   "cell_type": "markdown",
   "metadata": {},
   "source": [
    "### 1. 모듈 불러오기"
   ]
  },
  {
   "cell_type": "code",
   "execution_count": 2,
   "metadata": {},
   "outputs": [],
   "source": [
    "from PIL import Image,ImageDraw,ImageFont\n",
    "import os"
   ]
  },
  {
   "cell_type": "markdown",
   "metadata": {},
   "source": [
    "### 2. 좌표 저장"
   ]
  },
  {
   "cell_type": "code",
   "execution_count": 189,
   "metadata": {},
   "outputs": [],
   "source": [
    "date = (690,270)\n",
    "short_name = (1600, 270)\n",
    "long_name = (1550, 270)\n",
    "pay = (2550, 270)\n",
    "people = (2600, 205)\n",
    "ra = (1640, 205)\n",
    "house = (690, 205)"
   ]
  },
  {
   "cell_type": "markdown",
   "metadata": {},
   "source": [
    "### 3. Pillow"
   ]
  },
  {
   "cell_type": "code",
   "execution_count": 3,
   "metadata": {},
   "outputs": [],
   "source": [
    "# path 설정\n",
    "path = '/Users/shinyehjin/Programming/Dongjoo'\n",
    "\n",
    "# 양식 image\n",
    "target_image = Image.open(path+\"/original/제출양식.jpeg\")\n",
    "add_image = Image.open(path+\"/original/제출양식.jpeg\")\n",
    "\n",
    "# 폰트 경로와 사이즈 설정\n",
    "selectedFont =ImageFont.truetype(os.path.join(path,'fonts/HANBatangB.ttf'),36) #폰트경로과 사이즈를 설정해줍니다."
   ]
  },
  {
   "cell_type": "code",
   "execution_count": 192,
   "metadata": {},
   "outputs": [],
   "source": [
    "draw = ImageDraw.Draw(target_image)\n",
    "draw.text(date, \"2021.03.04\", fill=\"black\", font=selectedFont, align='center')\n",
    "draw.text(short_name, \"동주 더 지니어스\", fill=\"black\", font=selectedFont, align='center')\n",
    "draw.text(pay, \"160,444  원\", fill=\"black\", font=selectedFont, align='center')\n",
    "draw.text(people, \"30  명\", fill=\"black\", font=selectedFont, align='center')\n",
    "draw.text(ra, \"신예진  RA\", fill=\"black\", font=selectedFont, align='center')\n",
    "draw.text(house, \"윤동주 하우스\", fill=\"black\", font=selectedFont, align='center')\n",
    "target_image.paste(im = add_image.resize((int(add_image.size[0]*(1550/add_image.size[1])), 1550)), box =(300,500))\n",
    "target_image.save(path+\"/result/예시.jpg\") #편집된 이미지를 저장합니다."
   ]
  },
  {
   "cell_type": "markdown",
   "metadata": {},
   "source": [
    "### 4. 프로그램명 길이별 좌표 선정 과정"
   ]
  },
  {
   "cell_type": "code",
   "execution_count": 193,
   "metadata": {},
   "outputs": [],
   "source": [
    "li_program = [\"동주 더 지니어스\", \"동주시그널\", \"print hello 윤동주\", \"SWEET 동주\", \n",
    "              \"교양팸 찾기\", \"도란도란 동주라디오\", \"동동이의 서평작성타임\", \"동주 주식\", \n",
    "              \"동주사진전\", \"동주와 시\", \"동주작업실\", \"쉽게 재배된 텃밭\", \"안녕하세요? 저는...\",\n",
    "              \"연간효심\", \"웰빙동주\", \"윤씨네마\", \"클린윤동주\", \"하우스 운영회의\"]"
   ]
  },
  {
   "cell_type": "code",
   "execution_count": 171,
   "metadata": {},
   "outputs": [],
   "source": [
    "for name in li_program:\n",
    "    target_image = Image.open(path+\"/제출양식.jpeg\")\n",
    "    draw = ImageDraw.Draw(target_image)\n",
    "    if len(name) > 9:\n",
    "        draw.text((1550, 265), name, fill=\"black\", font=selectedFont, align='center')\n",
    "    else: \n",
    "        draw.text(program_name, name, fill=\"black\", font=selectedFont, align='center')\n",
    "    target_image.save(path+\"/\"+name+\".jpg\") #편집된 이미지를 저장합니다."
   ]
  },
  {
   "cell_type": "markdown",
   "metadata": {},
   "source": [
    "### 5. 상세내역 좌표 찍기 ..."
   ]
  },
  {
   "cell_type": "code",
   "execution_count": 48,
   "metadata": {},
   "outputs": [],
   "source": [
    "example_image = Image.open(path+\"/original/제출양식.jpeg\")\n",
    "draw = ImageDraw.Draw(example_image)\n",
    "draw.text((2280,a-25), \"HeyMr.Simple\", fill=\"black\", font=selectedFont, align='center')\n",
    "draw.text((2280,a+25), \"진짜로이거완전짱\", fill=\"black\", font=selectedFont, align='center')\n",
    "example_image.save(path+\"/result/exmaple.jpg\")"
   ]
  },
  {
   "cell_type": "code",
   "execution_count": 31,
   "metadata": {},
   "outputs": [],
   "source": [
    "line_1 = [(2300,590),(2700,590),(2788,590)]\n",
    "line_2 = [(2300,742),(2700,742),(2788,742)]\n",
    "line_3 = [(2300,894),(2700,894),(2788,894)]\n",
    "line_4 = [(2300,1047),(2700,1047),(2788,1047)]\n",
    "line_5 = [(2300,1200),(2700,1200),(2788,1200)]\n",
    "line_6 = [(2300,1352),(2700,1352),(2788,1352)]\n",
    "line_7 = [(2300,1505),(2700,1505),(2788,1505)]\n",
    "line_8 = [(2300,1657),(2700,1657),(2788,1657)]\n",
    "line_9 = [(2300,1810),(2700,1810),(2788,1810)]\n",
    "line_10 = [(2300,1962),(2700,1962),(2788,1962)]"
   ]
  }
 ],
 "metadata": {
  "kernelspec": {
   "display_name": "Python 3",
   "language": "python",
   "name": "python3"
  },
  "language_info": {
   "codemirror_mode": {
    "name": "ipython",
    "version": 3
   },
   "file_extension": ".py",
   "mimetype": "text/x-python",
   "name": "python",
   "nbconvert_exporter": "python",
   "pygments_lexer": "ipython3",
   "version": "3.7.6"
  }
 },
 "nbformat": 4,
 "nbformat_minor": 4
}

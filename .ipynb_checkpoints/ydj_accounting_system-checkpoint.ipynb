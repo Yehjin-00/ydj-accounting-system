{
 "cells": [
  {
   "cell_type": "markdown",
   "metadata": {},
   "source": [
    "# YDJ Accounting System\n",
    "##### 2021.03.09"
   ]
  },
  {
   "cell_type": "markdown",
   "metadata": {},
   "source": [
    "### 1. 모듈 불러오기"
   ]
  },
  {
   "cell_type": "code",
   "execution_count": 21,
   "metadata": {},
   "outputs": [],
   "source": [
    "from __future__ import print_function\n",
    "import pickle\n",
    "import os.path\n",
    "from googleapiclient.discovery import build\n",
    "from google_auth_oauthlib.flow import InstalledAppFlow\n",
    "from google.auth.transport.requests import Request\n",
    "\n",
    "import io\n",
    "import googleapiclient.http\n",
    "\n",
    "from PIL import Image,ImageDraw,ImageFont\n",
    "import os\n",
    "\n",
    "import numpy as np\n",
    "import pandas as pd\n",
    "import re\n",
    "\n",
    "import img2pdf"
   ]
  },
  {
   "cell_type": "markdown",
   "metadata": {},
   "source": [
    "### 2. drive service 설정"
   ]
  },
  {
   "cell_type": "code",
   "execution_count": 22,
   "metadata": {},
   "outputs": [],
   "source": [
    "SCOPES = ['https://www.googleapis.com/auth/drive']\n",
    "\n",
    "creds = None\n",
    "if os.path.exists('token.pickle'):\n",
    "    with open('token.pickle', 'rb') as token:\n",
    "        creds = pickle.load(token)\n",
    "        \n",
    "# If there are no (valid) credentials available, let the user log in.\n",
    "if not creds or not creds.valid:\n",
    "    if creds and creds.expired and creds.refresh_token:\n",
    "        creds.refresh(Request())\n",
    "    else:\n",
    "        flow = InstalledAppFlow.from_client_secrets_file('credentials.json', SCOPES)\n",
    "        creds = flow.run_local_server(port=0)\n",
    "    # Save the credentials for the next run\n",
    "    with open('token.pickle', 'wb') as token:\n",
    "        pickle.dump(creds, token)\n",
    "\n",
    "drive_service = build('drive', 'v3', credentials=creds)"
   ]
  },
  {
   "cell_type": "markdown",
   "metadata": {},
   "source": [
    "### 3. 필요한 메소드 정의"
   ]
  },
  {
   "cell_type": "code",
   "execution_count": 23,
   "metadata": {},
   "outputs": [],
   "source": [
    "# 품명/수량/금액 나누는 메소드\n",
    "def divide(full):\n",
    "    item = full.split('\\n')\n",
    "    item_list = [i.split(\"/\") for i in item]\n",
    "    for i in range(len(item_list)):\n",
    "        item_list[i][2] = str(commaParse(item_list[i][2]))+\" 원\"\n",
    "    return item_list\n",
    "\n",
    "# 사진 링크에서 id 뽑아내는 메소드\n",
    "def get_id(url_list):\n",
    "    url_list = [url+\";\" for url in url_list]\n",
    "    pattern = re.compile('{}(.*?){}'.format(re.escape('id='), re.escape(';')))\n",
    "    return [pattern.findall(url) for url in url_list] \n",
    "\n",
    "# 숫자를 000,000,000 꼴로 바꾸는 정규식\n",
    "def commaParse(num):\n",
    "    return re.sub('(?<=\\d)(?=(\\d{3})+(?!\\d))',',',str(num))"
   ]
  },
  {
   "cell_type": "markdown",
   "metadata": {},
   "source": [
    "### 4. 답변 CSV 전처리 for excel"
   ]
  },
  {
   "cell_type": "code",
   "execution_count": 26,
   "metadata": {},
   "outputs": [
    {
     "name": "stdin",
     "output_type": "stream",
     "text": [
      "월:  3\n",
      "전 or 후:  후\n"
     ]
    },
    {
     "name": "stdout",
     "output_type": "stream",
     "text": [
      "영수증은 총 20개 입니다.\n",
      "실물영수증은 총 5개 입니다.\n",
      "예산내역서 내용이 저장되었습니다.\n"
     ]
    }
   ],
   "source": [
    "month = int(input(\"월: \"))\n",
    "when = input('전 or 후: ')\n",
    "original = pd.read_csv(f'original/use/{month}월_{when}반.csv')\n",
    "\n",
    "df = original.copy()\n",
    "df['영수증'] = get_id(df['영수증 (사진 파일로 업로드)'])\n",
    "df['개수'] = [len(v) for v in df['영수증']]\n",
    "df = df.drop('영수증 (사진 파일로 업로드)', axis=1)\n",
    "\n",
    "real = sum(df['개수'][df['실물영수증 여부']=='실물영수증 O'])\n",
    "\n",
    "df = df[['프로그램명', '인원', '계정사유', '적요', '결제일자', '금액', '가맹점명','개수']]\n",
    "\n",
    "new_df = pd.DataFrame(columns=['프로그램명', '인원', '계정사유', '적요', '결제일자', '금액', '가맹점명','개수'])\n",
    "\n",
    "index = 0\n",
    "for idx, val in df.iterrows():\n",
    "    num = val['개수']\n",
    "    for i in range(num):\n",
    "        new_df.loc[index] = val\n",
    "        index +=1\n",
    "        \n",
    "new_df.to_excel(f'result/use/{month}월_{when}반 예산내역서 내용.xlsx', index=False)\n",
    "\n",
    "whole_num = sum(df['개수'])\n",
    "print('영수증은 총 {}개 입니다.'.format(whole_num))\n",
    "print('실물영수증은 총 {}개 입니다.'.format(real))\n",
    "print('예산내역서 내용이 저장되었습니다.')"
   ]
  },
  {
   "cell_type": "markdown",
   "metadata": {},
   "source": [
    "### 5. 답변 CSV 전처리 for 영수증 양식"
   ]
  },
  {
   "cell_type": "code",
   "execution_count": 27,
   "metadata": {},
   "outputs": [
    {
     "data": {
      "text/html": [
       "<div>\n",
       "<style scoped>\n",
       "    .dataframe tbody tr th:only-of-type {\n",
       "        vertical-align: middle;\n",
       "    }\n",
       "\n",
       "    .dataframe tbody tr th {\n",
       "        vertical-align: top;\n",
       "    }\n",
       "\n",
       "    .dataframe thead th {\n",
       "        text-align: right;\n",
       "    }\n",
       "</style>\n",
       "<table border=\"1\" class=\"dataframe\">\n",
       "  <thead>\n",
       "    <tr style=\"text-align: right;\">\n",
       "      <th></th>\n",
       "      <th>사용 RA</th>\n",
       "      <th>인원</th>\n",
       "      <th>결제일자</th>\n",
       "      <th>프로그램명</th>\n",
       "      <th>금액</th>\n",
       "      <th>품명/수량/금액</th>\n",
       "      <th>영수증</th>\n",
       "    </tr>\n",
       "  </thead>\n",
       "  <tbody>\n",
       "    <tr>\n",
       "      <th>0</th>\n",
       "      <td>손인해 RA</td>\n",
       "      <td>7 명</td>\n",
       "      <td>2021-03-22</td>\n",
       "      <td>하우스 운영회의</td>\n",
       "      <td>176,800 원</td>\n",
       "      <td>소곱창구이/1/24400\\n곱대막/1/22900\\n소곱창모둠구이/1/22900\\n코...</td>\n",
       "      <td>[1LCHN8fBvkZbt8fpwgb9NKZ2Ca3kHy9AR]</td>\n",
       "    </tr>\n",
       "    <tr>\n",
       "      <th>1</th>\n",
       "      <td>이대경 RA</td>\n",
       "      <td>20 명</td>\n",
       "      <td>2021-03-23</td>\n",
       "      <td>안녕하세요? 저는...</td>\n",
       "      <td>8,000 원</td>\n",
       "      <td>NaN</td>\n",
       "      <td>[1DUNtU79nF264B-nw-Nz5oQhESgjc4k3K]</td>\n",
       "    </tr>\n",
       "    <tr>\n",
       "      <th>2</th>\n",
       "      <td>신예진 RA</td>\n",
       "      <td>14 명</td>\n",
       "      <td>2021-03-18</td>\n",
       "      <td>상비약 구입</td>\n",
       "      <td>25,000 원</td>\n",
       "      <td>후시딘연고5g/2/4500\\n제놀원카타플라스마/1/3500\\n아진팜정/1/3000\\...</td>\n",
       "      <td>[1V_1RpM76R5p5kyWm-Zw3vFYVULH69eOW]</td>\n",
       "    </tr>\n",
       "    <tr>\n",
       "      <th>3</th>\n",
       "      <td>신예진 RA</td>\n",
       "      <td>310 명</td>\n",
       "      <td>2021-03-23</td>\n",
       "      <td>윤동주하우스 웰컴굿즈 제작</td>\n",
       "      <td>11,400 원</td>\n",
       "      <td>NaN</td>\n",
       "      <td>[1Yz7gFL-djIRhSywLiQcFIQ07RtyUS1cw]</td>\n",
       "    </tr>\n",
       "    <tr>\n",
       "      <th>4</th>\n",
       "      <td>이대경 RA</td>\n",
       "      <td>20 명</td>\n",
       "      <td>2021-03-24</td>\n",
       "      <td>안녕하세요? 저는...</td>\n",
       "      <td>160,000 원</td>\n",
       "      <td>아카라카 독수리타올/20/5500\\n독수리 캐릭터 젤펜/20/2500</td>\n",
       "      <td>[1SFKDCZU5NcXoeN3gTCY_j0aMSQVCBAvu]</td>\n",
       "    </tr>\n",
       "  </tbody>\n",
       "</table>\n",
       "</div>"
      ],
      "text/plain": [
       "    사용 RA     인원        결제일자           프로그램명         금액  \\\n",
       "0  손인해 RA    7 명  2021-03-22        하우스 운영회의  176,800 원   \n",
       "1  이대경 RA   20 명  2021-03-23    안녕하세요? 저는...    8,000 원   \n",
       "2  신예진 RA   14 명  2021-03-18          상비약 구입   25,000 원   \n",
       "3  신예진 RA  310 명  2021-03-23  윤동주하우스 웰컴굿즈 제작   11,400 원   \n",
       "4  이대경 RA   20 명  2021-03-24    안녕하세요? 저는...  160,000 원   \n",
       "\n",
       "                                            품명/수량/금액  \\\n",
       "0  소곱창구이/1/24400\\n곱대막/1/22900\\n소곱창모둠구이/1/22900\\n코...   \n",
       "1                                                NaN   \n",
       "2  후시딘연고5g/2/4500\\n제놀원카타플라스마/1/3500\\n아진팜정/1/3000\\...   \n",
       "3                                                NaN   \n",
       "4             아카라카 독수리타올/20/5500\\n독수리 캐릭터 젤펜/20/2500   \n",
       "\n",
       "                                   영수증  \n",
       "0  [1LCHN8fBvkZbt8fpwgb9NKZ2Ca3kHy9AR]  \n",
       "1  [1DUNtU79nF264B-nw-Nz5oQhESgjc4k3K]  \n",
       "2  [1V_1RpM76R5p5kyWm-Zw3vFYVULH69eOW]  \n",
       "3  [1Yz7gFL-djIRhSywLiQcFIQ07RtyUS1cw]  \n",
       "4  [1SFKDCZU5NcXoeN3gTCY_j0aMSQVCBAvu]  "
      ]
     },
     "execution_count": 27,
     "metadata": {},
     "output_type": "execute_result"
    }
   ],
   "source": [
    "# 불러오기\n",
    "df = original.copy()\n",
    "\n",
    "# 필요한 column만 남기기\n",
    "df = df[['사용 RA','인원','결제일자','프로그램명','금액','품명/수량/금액','영수증 (사진 파일로 업로드)']]\n",
    "\n",
    "# id만 list로 뽑아내는 과정\n",
    "df['영수증'] = get_id(df['영수증 (사진 파일로 업로드)'])\n",
    "df = df.drop('영수증 (사진 파일로 업로드)', axis=1)\n",
    "\n",
    "# 원하는 꼴로 변형\n",
    "df['인원'] = [str(v)+\" 명\" for v in df['인원']]\n",
    "df['금액'] = [str(commaParse(v))+\" 원\" for v in df['금액']]\n",
    "\n",
    "# 미리보기\n",
    "df.head()"
   ]
  },
  {
   "cell_type": "markdown",
   "metadata": {},
   "source": [
    "### 6. 필요한 좌표 값 리스트"
   ]
  },
  {
   "cell_type": "code",
   "execution_count": 28,
   "metadata": {},
   "outputs": [],
   "source": [
    "location_short = [(1640, 205), (2600, 205), (690,270), (1600, 270),(2555, 270)]\n",
    "location_long = [(1640, 205), (2600, 205), (690,270), (1550, 270),(2555, 270)]\n",
    "location_house = (690, 205)\n",
    "col_item = [2260, 2668, 2755]\n",
    "row_item = [590, 743, 894, 1047, 1200, 1352, 1505, 1657, 1810, 1962]"
   ]
  },
  {
   "cell_type": "markdown",
   "metadata": {},
   "source": [
    "### 7. Pillow 기본 설정"
   ]
  },
  {
   "cell_type": "code",
   "execution_count": 29,
   "metadata": {},
   "outputs": [],
   "source": [
    "# path 설정\n",
    "path = '/Users/shinyehjin/Programming/ydj_accounting_system'\n",
    "\n",
    "# 폰트 경로와 사이즈 설정\n",
    "regularFont =ImageFont.truetype(os.path.join(path,'fonts/HANBatangB.ttf'),36)\n",
    "smallFont =ImageFont.truetype(os.path.join(path,'fonts/HANBatangB.ttf'),30)"
   ]
  },
  {
   "cell_type": "markdown",
   "metadata": {},
   "source": [
    "### 8. 대망의 결과물 뽑아내기 과정"
   ]
  },
  {
   "cell_type": "code",
   "execution_count": 31,
   "metadata": {},
   "outputs": [
    {
     "name": "stdout",
     "output_type": "stream",
     "text": [
      "[1] index:0의 0번째 사진! Download 100%.\n",
      "[2] index:1의 0번째 사진! Download 100%.\n",
      "[3] index:2의 0번째 사진! Download 100%.\n",
      "[4] index:3의 0번째 사진! Download 100%.\n",
      "[5] index:4의 0번째 사진! Download 100%.\n",
      "[6] index:5의 0번째 사진! Download 100%.\n",
      "[7] index:6의 0번째 사진! Download 100%.\n",
      "[8] index:7의 0번째 사진! Download 100%.\n",
      "[9] index:8의 0번째 사진! Download 100%.\n",
      "[10] index:9의 0번째 사진! Download 100%.\n",
      "[11] index:10의 0번째 사진! Download 100%.\n",
      "[12] index:11의 0번째 사진! Download 100%.\n",
      "[13] index:12의 0번째 사진! Download 100%.\n",
      "[14] index:13의 0번째 사진! Download 100%.\n",
      "[15] index:14의 0번째 사진! Download 100%.\n",
      "[16] index:14의 1번째 사진! Download 100%.\n",
      "[17] index:14의 2번째 사진! Download 100%.\n",
      "[18] index:15의 0번째 사진! Download 100%.\n",
      "[19] index:16의 0번째 사진! Download 100%.\n",
      "[20] index:17의 0번째 사진! Download 100%.\n",
      "전체 영수증 개수: 20\n",
      "영수증 양식 제작 개수: 20\n"
     ]
    }
   ],
   "source": [
    "check = 0\n",
    "for index in range(len(df)):\n",
    "    \n",
    "    target_image = Image.open(path+\"/original/form.jpeg\")\n",
    "    row = list(df.iloc[index])\n",
    "\n",
    "    draw = ImageDraw.Draw(target_image)\n",
    "    draw.text(location_house, \"윤동주 하우스\", fill=\"black\", font=regularFont, align='center')\n",
    "    if (len(row[3]) > 9):\n",
    "        for i in range(5):\n",
    "            draw.text(location_long[i], str(row[i]), fill=\"black\", font=regularFont, align='center')\n",
    "    else:\n",
    "        for i in range(5):\n",
    "            draw.text(location_short[i], str(row[i]), fill=\"black\", font=regularFont, align='center')\n",
    "\n",
    "    if type(row[5]) == type('string'):\n",
    "        item_list = divide(row[5])\n",
    "        for i in range(len(item_list)):\n",
    "            if len(item_list[i][0]) > 13:\n",
    "                front = item_list[i][0][:13]\n",
    "                back = item_list[i][0][13:]\n",
    "                draw.text((col_item[0], row_item[i]-20), front, fill=\"black\", font=smallFont, align='center') \n",
    "                draw.text((col_item[0], row_item[i]+20), back, fill=\"black\", font=smallFont, align='center') \n",
    "            else:\n",
    "                draw.text((col_item[0], row_item[i]), item_list[i][0], fill=\"black\", font=smallFont, align='center') \n",
    "            for n in range(1,3):\n",
    "                draw.text((col_item[n], row_item[i]), item_list[i][n], fill=\"black\", font=smallFont, align='center') \n",
    "\n",
    "    for i in range(len(row[6])):\n",
    "        check += 1\n",
    "        file_id = row[6][i]\n",
    "        request = drive_service.files().get_media(fileId=file_id)\n",
    "        fh = io.BytesIO()\n",
    "        downloader = googleapiclient.http.MediaIoBaseDownload(fh, request)\n",
    "\n",
    "        done = False\n",
    "        while done is False:\n",
    "            status, done = downloader.next_chunk()\n",
    "            print(\"[{}] index:{}의 {}번째 사진! \".format(check, index, i)+\"Download %d%%.\" % int(status.progress() * 100))\n",
    "\n",
    "        add_image = Image.open(fh)\n",
    "    \n",
    "        if int(add_image.size[0]*(1550/add_image.size[1])) > 1550:\n",
    "            target_image.paste(im = add_image.resize((1550, int(add_image.size[1]*(1550/add_image.size[0])))), box =(300,500))              \n",
    "        else:\n",
    "            target_image.paste(im = add_image.resize((int(add_image.size[0]*(1550/add_image.size[1])), 1550)), box =(300,500))\n",
    "        target_image.save(path+\"/result/use/{}_{}/영수증_{}_{}.jpg\".format(month, when, index, i))\n",
    "        \n",
    "print(f'전체 영수증 개수: {whole_num}\\n영수증 양식 제작 개수: {check}')"
   ]
  },
  {
   "cell_type": "code",
   "execution_count": null,
   "metadata": {},
   "outputs": [],
   "source": []
  }
 ],
 "metadata": {
  "kernelspec": {
   "display_name": "Python 3",
   "language": "python",
   "name": "python3"
  },
  "language_info": {
   "codemirror_mode": {
    "name": "ipython",
    "version": 3
   },
   "file_extension": ".py",
   "mimetype": "text/x-python",
   "name": "python",
   "nbconvert_exporter": "python",
   "pygments_lexer": "ipython3",
   "version": "3.7.6"
  }
 },
 "nbformat": 4,
 "nbformat_minor": 4
}
